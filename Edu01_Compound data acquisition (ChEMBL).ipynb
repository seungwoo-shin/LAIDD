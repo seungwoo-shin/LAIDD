{
 "cells": [
  {
   "cell_type": "code",
   "execution_count": 1,
   "id": "8bd8287d-5355-4b10-8cb5-35f6918ced38",
   "metadata": {},
   "outputs": [],
   "source": [
    "import math\n",
    "from pathlib import Path\n",
    "from zipfile import ZipFile\n",
    "from tempfile import TemporaryDirectory\n",
    "\n",
    "import numpy as np\n",
    "import pandas as pd\n",
    "from rdkit.Chem import PandasTools\n",
    "from chembl_webresource_client.new_client import new_client\n",
    "from tqdm.auto import tqdm"
   ]
  },
  {
   "cell_type": "code",
   "execution_count": 2,
   "id": "875eeeb8-5d92-43a2-81f4-66f6c80867a8",
   "metadata": {},
   "outputs": [],
   "source": [
    "HERE = Path(_dh[-1])\n",
    "DATA = HERE / \"data\""
   ]
  },
  {
   "cell_type": "code",
   "execution_count": 3,
   "id": "6b487bda-8bef-4cdf-89fc-7a76a0dcafc0",
   "metadata": {},
   "outputs": [],
   "source": [
    "targets_api = new_client.target\n",
    "compounds_api = new_client.molecule\n",
    "bioactivities_api = new_client.activity"
   ]
  },
  {
   "cell_type": "code",
   "execution_count": 4,
   "id": "0213e5f3-29f1-4570-9ee3-40ecefe79ee7",
   "metadata": {},
   "outputs": [
    {
     "data": {
      "text/plain": [
       "chembl_webresource_client.query_set.QuerySet"
      ]
     },
     "execution_count": 4,
     "metadata": {},
     "output_type": "execute_result"
    }
   ],
   "source": [
    "type(targets_api)"
   ]
  },
  {
   "cell_type": "code",
   "execution_count": 5,
   "id": "f54f464e-a93a-45e3-bd06-d71fbb35808f",
   "metadata": {},
   "outputs": [],
   "source": [
    "# Target protein -> EGFR kinase: P00533\n",
    "uniprot_id = \"P00533\""
   ]
  },
  {
   "cell_type": "code",
   "execution_count": 6,
   "id": "94327513-2d78-446b-932a-b3df625a17ef",
   "metadata": {},
   "outputs": [
    {
     "name": "stdout",
     "output_type": "stream",
     "text": [
      "The type of the targets is \"<class 'chembl_webresource_client.query_set.QuerySet'>\"\n"
     ]
    }
   ],
   "source": [
    "#### Get target information from ChEMBL but restrict it to specified values only\n",
    "targets = targets_api.get(target_components__accession=uniprot_id).only(\n",
    "    \"target_chembl_id\", \"organism\", \"pref_name\", \"target_type\"\n",
    ")\n",
    "print(f'The type of the targets is \"{type(targets)}\"')"
   ]
  },
  {
   "cell_type": "code",
   "execution_count": 7,
   "id": "b1a6651e-86f2-46d8-bf6d-442bb7be266c",
   "metadata": {},
   "outputs": [
    {
     "data": {
      "text/html": [
       "<div>\n",
       "<style scoped>\n",
       "    .dataframe tbody tr th:only-of-type {\n",
       "        vertical-align: middle;\n",
       "    }\n",
       "\n",
       "    .dataframe tbody tr th {\n",
       "        vertical-align: top;\n",
       "    }\n",
       "\n",
       "    .dataframe thead th {\n",
       "        text-align: right;\n",
       "    }\n",
       "</style>\n",
       "<table border=\"1\" class=\"dataframe\">\n",
       "  <thead>\n",
       "    <tr style=\"text-align: right;\">\n",
       "      <th></th>\n",
       "      <th>organism</th>\n",
       "      <th>pref_name</th>\n",
       "      <th>target_chembl_id</th>\n",
       "      <th>target_type</th>\n",
       "    </tr>\n",
       "  </thead>\n",
       "  <tbody>\n",
       "    <tr>\n",
       "      <th>0</th>\n",
       "      <td>Homo sapiens</td>\n",
       "      <td>Epidermal growth factor receptor erbB1</td>\n",
       "      <td>CHEMBL203</td>\n",
       "      <td>SINGLE PROTEIN</td>\n",
       "    </tr>\n",
       "    <tr>\n",
       "      <th>1</th>\n",
       "      <td>Homo sapiens</td>\n",
       "      <td>Epidermal growth factor receptor erbB1</td>\n",
       "      <td>CHEMBL203</td>\n",
       "      <td>SINGLE PROTEIN</td>\n",
       "    </tr>\n",
       "    <tr>\n",
       "      <th>2</th>\n",
       "      <td>Homo sapiens</td>\n",
       "      <td>Epidermal growth factor receptor and ErbB2 (HE...</td>\n",
       "      <td>CHEMBL2111431</td>\n",
       "      <td>PROTEIN FAMILY</td>\n",
       "    </tr>\n",
       "    <tr>\n",
       "      <th>3</th>\n",
       "      <td>Homo sapiens</td>\n",
       "      <td>Epidermal growth factor receptor</td>\n",
       "      <td>CHEMBL2363049</td>\n",
       "      <td>PROTEIN FAMILY</td>\n",
       "    </tr>\n",
       "    <tr>\n",
       "      <th>4</th>\n",
       "      <td>Homo sapiens</td>\n",
       "      <td>MER intracellular domain/EGFR extracellular do...</td>\n",
       "      <td>CHEMBL3137284</td>\n",
       "      <td>CHIMERIC PROTEIN</td>\n",
       "    </tr>\n",
       "    <tr>\n",
       "      <th>5</th>\n",
       "      <td>Homo sapiens</td>\n",
       "      <td>Protein cereblon/Epidermal growth factor receptor</td>\n",
       "      <td>CHEMBL4523680</td>\n",
       "      <td>PROTEIN-PROTEIN INTERACTION</td>\n",
       "    </tr>\n",
       "    <tr>\n",
       "      <th>6</th>\n",
       "      <td>Homo sapiens</td>\n",
       "      <td>EGFR/PPP1CA</td>\n",
       "      <td>CHEMBL4523747</td>\n",
       "      <td>PROTEIN-PROTEIN INTERACTION</td>\n",
       "    </tr>\n",
       "    <tr>\n",
       "      <th>7</th>\n",
       "      <td>Homo sapiens</td>\n",
       "      <td>VHL/EGFR</td>\n",
       "      <td>CHEMBL4523998</td>\n",
       "      <td>PROTEIN-PROTEIN INTERACTION</td>\n",
       "    </tr>\n",
       "    <tr>\n",
       "      <th>8</th>\n",
       "      <td>Homo sapiens</td>\n",
       "      <td>Baculoviral IAP repeat-containing protein 2/Ep...</td>\n",
       "      <td>CHEMBL4802031</td>\n",
       "      <td>PROTEIN-PROTEIN INTERACTION</td>\n",
       "    </tr>\n",
       "  </tbody>\n",
       "</table>\n",
       "</div>"
      ],
      "text/plain": [
       "       organism                                          pref_name  \\\n",
       "0  Homo sapiens             Epidermal growth factor receptor erbB1   \n",
       "1  Homo sapiens             Epidermal growth factor receptor erbB1   \n",
       "2  Homo sapiens  Epidermal growth factor receptor and ErbB2 (HE...   \n",
       "3  Homo sapiens                   Epidermal growth factor receptor   \n",
       "4  Homo sapiens  MER intracellular domain/EGFR extracellular do...   \n",
       "5  Homo sapiens  Protein cereblon/Epidermal growth factor receptor   \n",
       "6  Homo sapiens                                        EGFR/PPP1CA   \n",
       "7  Homo sapiens                                           VHL/EGFR   \n",
       "8  Homo sapiens  Baculoviral IAP repeat-containing protein 2/Ep...   \n",
       "\n",
       "  target_chembl_id                  target_type  \n",
       "0        CHEMBL203               SINGLE PROTEIN  \n",
       "1        CHEMBL203               SINGLE PROTEIN  \n",
       "2    CHEMBL2111431               PROTEIN FAMILY  \n",
       "3    CHEMBL2363049               PROTEIN FAMILY  \n",
       "4    CHEMBL3137284             CHIMERIC PROTEIN  \n",
       "5    CHEMBL4523680  PROTEIN-PROTEIN INTERACTION  \n",
       "6    CHEMBL4523747  PROTEIN-PROTEIN INTERACTION  \n",
       "7    CHEMBL4523998  PROTEIN-PROTEIN INTERACTION  \n",
       "8    CHEMBL4802031  PROTEIN-PROTEIN INTERACTION  "
      ]
     },
     "execution_count": 7,
     "metadata": {},
     "output_type": "execute_result"
    }
   ],
   "source": [
    "targets = pd.DataFrame.from_records(targets)\n",
    "targets"
   ]
  },
  {
   "cell_type": "code",
   "execution_count": 8,
   "id": "c657a187-0437-4234-84e8-2b01d4727858",
   "metadata": {},
   "outputs": [
    {
     "data": {
      "text/plain": [
       "organism                                      Homo sapiens\n",
       "pref_name           Epidermal growth factor receptor erbB1\n",
       "target_chembl_id                                 CHEMBL203\n",
       "target_type                                 SINGLE PROTEIN\n",
       "Name: 0, dtype: object"
      ]
     },
     "execution_count": 8,
     "metadata": {},
     "output_type": "execute_result"
    }
   ],
   "source": [
    "#### Select target (target ChEMBL ID)\n",
    "target = targets.iloc[0]\n",
    "target"
   ]
  },
  {
   "cell_type": "code",
   "execution_count": 9,
   "id": "0bf78029-29ce-4e80-ad28-74168103f34c",
   "metadata": {},
   "outputs": [
    {
     "name": "stdout",
     "output_type": "stream",
     "text": [
      "The target ChEMBL ID is CHEMBL203\n"
     ]
    }
   ],
   "source": [
    "chembl_id = target.target_chembl_id\n",
    "print(f\"The target ChEMBL ID is {chembl_id}\")"
   ]
  },
  {
   "cell_type": "code",
   "execution_count": 10,
   "id": "37a76ea3-0513-4827-98e2-f74649852a9e",
   "metadata": {},
   "outputs": [
    {
     "name": "stdout",
     "output_type": "stream",
     "text": [
      "Length and type of bioactivities object: 10420, <class 'chembl_webresource_client.query_set.QuerySet'>\n"
     ]
    }
   ],
   "source": [
    "#### Fetch bioactivity data for the target from ChEMBL\n",
    "bioactivities = bioactivities_api.filter(\n",
    "    target_chembl_id=chembl_id, type=\"IC50\", relation=\"=\", assay_type=\"B\"\n",
    ").only(\n",
    "    \"activity_id\",\n",
    "    \"assay_chembl_id\",\n",
    "    \"assay_description\",\n",
    "    \"assay_type\",\n",
    "    \"molecule_chembl_id\",\n",
    "    \"type\",\n",
    "    \"standard_units\",\n",
    "    \"relation\",\n",
    "    \"standard_value\",\n",
    "    \"target_chembl_id\",\n",
    "    \"target_organism\",\n",
    ")\n",
    "\n",
    "print(f\"Length and type of bioactivities object: {len(bioactivities)}, {type(bioactivities)}\")"
   ]
  },
  {
   "cell_type": "code",
   "execution_count": 11,
   "id": "e31f38e1-602b-4a10-8697-559964a5b4d7",
   "metadata": {},
   "outputs": [
    {
     "name": "stdout",
     "output_type": "stream",
     "text": [
      "Length and type of first element: 13, <class 'dict'>\n"
     ]
    },
    {
     "data": {
      "text/plain": [
       "{'activity_id': 32260,\n",
       " 'assay_chembl_id': 'CHEMBL674637',\n",
       " 'assay_description': 'Inhibitory activity towards tyrosine phosphorylation for the epidermal growth factor-receptor kinase',\n",
       " 'assay_type': 'B',\n",
       " 'molecule_chembl_id': 'CHEMBL68920',\n",
       " 'relation': '=',\n",
       " 'standard_units': 'nM',\n",
       " 'standard_value': '41.0',\n",
       " 'target_chembl_id': 'CHEMBL203',\n",
       " 'target_organism': 'Homo sapiens',\n",
       " 'type': 'IC50',\n",
       " 'units': 'uM',\n",
       " 'value': '0.041'}"
      ]
     },
     "execution_count": 11,
     "metadata": {},
     "output_type": "execute_result"
    }
   ],
   "source": [
    "print(f\"Length and type of first element: {len(bioactivities[0])}, {type(bioactivities[0])}\")\n",
    "bioactivities[0]"
   ]
  },
  {
   "cell_type": "code",
   "execution_count": 12,
   "id": "0a5c1278-23f3-45b3-b5b1-865c95735949",
   "metadata": {},
   "outputs": [
    {
     "name": "stdout",
     "output_type": "stream",
     "text": [
      "DataFrame shape: (10420, 13)\n"
     ]
    },
    {
     "data": {
      "text/html": [
       "<div>\n",
       "<style scoped>\n",
       "    .dataframe tbody tr th:only-of-type {\n",
       "        vertical-align: middle;\n",
       "    }\n",
       "\n",
       "    .dataframe tbody tr th {\n",
       "        vertical-align: top;\n",
       "    }\n",
       "\n",
       "    .dataframe thead th {\n",
       "        text-align: right;\n",
       "    }\n",
       "</style>\n",
       "<table border=\"1\" class=\"dataframe\">\n",
       "  <thead>\n",
       "    <tr style=\"text-align: right;\">\n",
       "      <th></th>\n",
       "      <th>activity_id</th>\n",
       "      <th>assay_chembl_id</th>\n",
       "      <th>assay_description</th>\n",
       "      <th>assay_type</th>\n",
       "      <th>molecule_chembl_id</th>\n",
       "      <th>relation</th>\n",
       "      <th>standard_units</th>\n",
       "      <th>standard_value</th>\n",
       "      <th>target_chembl_id</th>\n",
       "      <th>target_organism</th>\n",
       "      <th>type</th>\n",
       "      <th>units</th>\n",
       "      <th>value</th>\n",
       "    </tr>\n",
       "  </thead>\n",
       "  <tbody>\n",
       "    <tr>\n",
       "      <th>0</th>\n",
       "      <td>32260</td>\n",
       "      <td>CHEMBL674637</td>\n",
       "      <td>Inhibitory activity towards tyrosine phosphory...</td>\n",
       "      <td>B</td>\n",
       "      <td>CHEMBL68920</td>\n",
       "      <td>=</td>\n",
       "      <td>nM</td>\n",
       "      <td>41.0</td>\n",
       "      <td>CHEMBL203</td>\n",
       "      <td>Homo sapiens</td>\n",
       "      <td>IC50</td>\n",
       "      <td>uM</td>\n",
       "      <td>0.041</td>\n",
       "    </tr>\n",
       "    <tr>\n",
       "      <th>1</th>\n",
       "      <td>32267</td>\n",
       "      <td>CHEMBL674637</td>\n",
       "      <td>Inhibitory activity towards tyrosine phosphory...</td>\n",
       "      <td>B</td>\n",
       "      <td>CHEMBL69960</td>\n",
       "      <td>=</td>\n",
       "      <td>nM</td>\n",
       "      <td>170.0</td>\n",
       "      <td>CHEMBL203</td>\n",
       "      <td>Homo sapiens</td>\n",
       "      <td>IC50</td>\n",
       "      <td>uM</td>\n",
       "      <td>0.17</td>\n",
       "    </tr>\n",
       "    <tr>\n",
       "      <th>2</th>\n",
       "      <td>32680</td>\n",
       "      <td>CHEMBL677833</td>\n",
       "      <td>In vitro inhibition of Epidermal growth factor...</td>\n",
       "      <td>B</td>\n",
       "      <td>CHEMBL137635</td>\n",
       "      <td>=</td>\n",
       "      <td>nM</td>\n",
       "      <td>9300.0</td>\n",
       "      <td>CHEMBL203</td>\n",
       "      <td>Homo sapiens</td>\n",
       "      <td>IC50</td>\n",
       "      <td>uM</td>\n",
       "      <td>9.3</td>\n",
       "    </tr>\n",
       "    <tr>\n",
       "      <th>3</th>\n",
       "      <td>32770</td>\n",
       "      <td>CHEMBL674643</td>\n",
       "      <td>Inhibitory concentration of EGF dependent auto...</td>\n",
       "      <td>B</td>\n",
       "      <td>CHEMBL306988</td>\n",
       "      <td>=</td>\n",
       "      <td>nM</td>\n",
       "      <td>500000.0</td>\n",
       "      <td>CHEMBL203</td>\n",
       "      <td>Homo sapiens</td>\n",
       "      <td>IC50</td>\n",
       "      <td>uM</td>\n",
       "      <td>500.0</td>\n",
       "    </tr>\n",
       "    <tr>\n",
       "      <th>4</th>\n",
       "      <td>32772</td>\n",
       "      <td>CHEMBL674643</td>\n",
       "      <td>Inhibitory concentration of EGF dependent auto...</td>\n",
       "      <td>B</td>\n",
       "      <td>CHEMBL66879</td>\n",
       "      <td>=</td>\n",
       "      <td>nM</td>\n",
       "      <td>3000000.0</td>\n",
       "      <td>CHEMBL203</td>\n",
       "      <td>Homo sapiens</td>\n",
       "      <td>IC50</td>\n",
       "      <td>uM</td>\n",
       "      <td>3000.0</td>\n",
       "    </tr>\n",
       "  </tbody>\n",
       "</table>\n",
       "</div>"
      ],
      "text/plain": [
       "   activity_id assay_chembl_id  \\\n",
       "0        32260    CHEMBL674637   \n",
       "1        32267    CHEMBL674637   \n",
       "2        32680    CHEMBL677833   \n",
       "3        32770    CHEMBL674643   \n",
       "4        32772    CHEMBL674643   \n",
       "\n",
       "                                   assay_description assay_type  \\\n",
       "0  Inhibitory activity towards tyrosine phosphory...          B   \n",
       "1  Inhibitory activity towards tyrosine phosphory...          B   \n",
       "2  In vitro inhibition of Epidermal growth factor...          B   \n",
       "3  Inhibitory concentration of EGF dependent auto...          B   \n",
       "4  Inhibitory concentration of EGF dependent auto...          B   \n",
       "\n",
       "  molecule_chembl_id relation standard_units standard_value target_chembl_id  \\\n",
       "0        CHEMBL68920        =             nM           41.0        CHEMBL203   \n",
       "1        CHEMBL69960        =             nM          170.0        CHEMBL203   \n",
       "2       CHEMBL137635        =             nM         9300.0        CHEMBL203   \n",
       "3       CHEMBL306988        =             nM       500000.0        CHEMBL203   \n",
       "4        CHEMBL66879        =             nM      3000000.0        CHEMBL203   \n",
       "\n",
       "  target_organism  type units   value  \n",
       "0    Homo sapiens  IC50    uM   0.041  \n",
       "1    Homo sapiens  IC50    uM    0.17  \n",
       "2    Homo sapiens  IC50    uM     9.3  \n",
       "3    Homo sapiens  IC50    uM   500.0  \n",
       "4    Homo sapiens  IC50    uM  3000.0  "
      ]
     },
     "execution_count": 12,
     "metadata": {},
     "output_type": "execute_result"
    }
   ],
   "source": [
    "# This step should not take more than 2 minutes\n",
    "bioactivities_df = pd.DataFrame.from_dict(bioactivities)\n",
    "print(f\"DataFrame shape: {bioactivities_df.shape}\")\n",
    "bioactivities_df.head()"
   ]
  },
  {
   "cell_type": "code",
   "execution_count": null,
   "id": "9676d389-a5c7-42c5-a9fd-970c552b3854",
   "metadata": {},
   "outputs": [],
   "source": [
    "#### Preprocess and filter bioactivity data\n",
    "#### Convert standard_value’s datatype from object to float\n",
    "#### Delete entries with missing values\n",
    "#### Keep only entries with standard_unit == nM\n",
    "#### Delete duplicate molecules\n",
    "#### Reset DataFrame index\n",
    "#### Rename columns"
   ]
  },
  {
   "cell_type": "code",
   "execution_count": 13,
   "id": "7e245d14-1788-45d7-807b-9eb48176681d",
   "metadata": {},
   "outputs": [
    {
     "data": {
      "text/plain": [
       "array(['uM', 'nM', 'pM', 'M', \"10'3 uM\", \"10'1 ug/ml\", 'ug ml-1',\n",
       "       \"10'-1microM\", \"10'1 uM\", \"10'-1 ug/ml\", \"10'-2 ug/ml\", \"10'2 uM\",\n",
       "       \"10'-3 ug/ml\", \"10'-2microM\", '/uM', \"10'-6g/ml\", 'mM', 'umol/L',\n",
       "       'nmol/L', \"10'-10M\", \"10'-7M\", 'nmol', '10^-8M', 'µM'],\n",
       "      dtype=object)"
      ]
     },
     "execution_count": 13,
     "metadata": {},
     "output_type": "execute_result"
    }
   ],
   "source": [
    "bioactivities_df[\"units\"].unique()"
   ]
  },
  {
   "cell_type": "code",
   "execution_count": 14,
   "id": "4e4362b2-4bf8-4451-baf6-bf189731725d",
   "metadata": {},
   "outputs": [
    {
     "data": {
      "text/html": [
       "<div>\n",
       "<style scoped>\n",
       "    .dataframe tbody tr th:only-of-type {\n",
       "        vertical-align: middle;\n",
       "    }\n",
       "\n",
       "    .dataframe tbody tr th {\n",
       "        vertical-align: top;\n",
       "    }\n",
       "\n",
       "    .dataframe thead th {\n",
       "        text-align: right;\n",
       "    }\n",
       "</style>\n",
       "<table border=\"1\" class=\"dataframe\">\n",
       "  <thead>\n",
       "    <tr style=\"text-align: right;\">\n",
       "      <th></th>\n",
       "      <th>activity_id</th>\n",
       "      <th>assay_chembl_id</th>\n",
       "      <th>assay_description</th>\n",
       "      <th>assay_type</th>\n",
       "      <th>molecule_chembl_id</th>\n",
       "      <th>relation</th>\n",
       "      <th>standard_units</th>\n",
       "      <th>standard_value</th>\n",
       "      <th>target_chembl_id</th>\n",
       "      <th>target_organism</th>\n",
       "      <th>type</th>\n",
       "    </tr>\n",
       "  </thead>\n",
       "  <tbody>\n",
       "    <tr>\n",
       "      <th>0</th>\n",
       "      <td>32260</td>\n",
       "      <td>CHEMBL674637</td>\n",
       "      <td>Inhibitory activity towards tyrosine phosphory...</td>\n",
       "      <td>B</td>\n",
       "      <td>CHEMBL68920</td>\n",
       "      <td>=</td>\n",
       "      <td>nM</td>\n",
       "      <td>41.0</td>\n",
       "      <td>CHEMBL203</td>\n",
       "      <td>Homo sapiens</td>\n",
       "      <td>IC50</td>\n",
       "    </tr>\n",
       "    <tr>\n",
       "      <th>1</th>\n",
       "      <td>32267</td>\n",
       "      <td>CHEMBL674637</td>\n",
       "      <td>Inhibitory activity towards tyrosine phosphory...</td>\n",
       "      <td>B</td>\n",
       "      <td>CHEMBL69960</td>\n",
       "      <td>=</td>\n",
       "      <td>nM</td>\n",
       "      <td>170.0</td>\n",
       "      <td>CHEMBL203</td>\n",
       "      <td>Homo sapiens</td>\n",
       "      <td>IC50</td>\n",
       "    </tr>\n",
       "    <tr>\n",
       "      <th>2</th>\n",
       "      <td>32680</td>\n",
       "      <td>CHEMBL677833</td>\n",
       "      <td>In vitro inhibition of Epidermal growth factor...</td>\n",
       "      <td>B</td>\n",
       "      <td>CHEMBL137635</td>\n",
       "      <td>=</td>\n",
       "      <td>nM</td>\n",
       "      <td>9300.0</td>\n",
       "      <td>CHEMBL203</td>\n",
       "      <td>Homo sapiens</td>\n",
       "      <td>IC50</td>\n",
       "    </tr>\n",
       "    <tr>\n",
       "      <th>3</th>\n",
       "      <td>32770</td>\n",
       "      <td>CHEMBL674643</td>\n",
       "      <td>Inhibitory concentration of EGF dependent auto...</td>\n",
       "      <td>B</td>\n",
       "      <td>CHEMBL306988</td>\n",
       "      <td>=</td>\n",
       "      <td>nM</td>\n",
       "      <td>500000.0</td>\n",
       "      <td>CHEMBL203</td>\n",
       "      <td>Homo sapiens</td>\n",
       "      <td>IC50</td>\n",
       "    </tr>\n",
       "    <tr>\n",
       "      <th>4</th>\n",
       "      <td>32772</td>\n",
       "      <td>CHEMBL674643</td>\n",
       "      <td>Inhibitory concentration of EGF dependent auto...</td>\n",
       "      <td>B</td>\n",
       "      <td>CHEMBL66879</td>\n",
       "      <td>=</td>\n",
       "      <td>nM</td>\n",
       "      <td>3000000.0</td>\n",
       "      <td>CHEMBL203</td>\n",
       "      <td>Homo sapiens</td>\n",
       "      <td>IC50</td>\n",
       "    </tr>\n",
       "  </tbody>\n",
       "</table>\n",
       "</div>"
      ],
      "text/plain": [
       "   activity_id assay_chembl_id  \\\n",
       "0        32260    CHEMBL674637   \n",
       "1        32267    CHEMBL674637   \n",
       "2        32680    CHEMBL677833   \n",
       "3        32770    CHEMBL674643   \n",
       "4        32772    CHEMBL674643   \n",
       "\n",
       "                                   assay_description assay_type  \\\n",
       "0  Inhibitory activity towards tyrosine phosphory...          B   \n",
       "1  Inhibitory activity towards tyrosine phosphory...          B   \n",
       "2  In vitro inhibition of Epidermal growth factor...          B   \n",
       "3  Inhibitory concentration of EGF dependent auto...          B   \n",
       "4  Inhibitory concentration of EGF dependent auto...          B   \n",
       "\n",
       "  molecule_chembl_id relation standard_units standard_value target_chembl_id  \\\n",
       "0        CHEMBL68920        =             nM           41.0        CHEMBL203   \n",
       "1        CHEMBL69960        =             nM          170.0        CHEMBL203   \n",
       "2       CHEMBL137635        =             nM         9300.0        CHEMBL203   \n",
       "3       CHEMBL306988        =             nM       500000.0        CHEMBL203   \n",
       "4        CHEMBL66879        =             nM      3000000.0        CHEMBL203   \n",
       "\n",
       "  target_organism  type  \n",
       "0    Homo sapiens  IC50  \n",
       "1    Homo sapiens  IC50  \n",
       "2    Homo sapiens  IC50  \n",
       "3    Homo sapiens  IC50  \n",
       "4    Homo sapiens  IC50  "
      ]
     },
     "execution_count": 14,
     "metadata": {},
     "output_type": "execute_result"
    }
   ],
   "source": [
    "bioactivities_df.drop([\"units\", \"value\"], axis=1, inplace=True)\n",
    "bioactivities_df.head()"
   ]
  },
  {
   "cell_type": "code",
   "execution_count": 15,
   "id": "0a324184-fe5f-4f73-a50d-1c41e76ac255",
   "metadata": {},
   "outputs": [
    {
     "data": {
      "text/plain": [
       "activity_id            int64\n",
       "assay_chembl_id       object\n",
       "assay_description     object\n",
       "assay_type            object\n",
       "molecule_chembl_id    object\n",
       "relation              object\n",
       "standard_units        object\n",
       "standard_value        object\n",
       "target_chembl_id      object\n",
       "target_organism       object\n",
       "type                  object\n",
       "dtype: object"
      ]
     },
     "execution_count": 15,
     "metadata": {},
     "output_type": "execute_result"
    }
   ],
   "source": [
    "bioactivities_df.dtypes"
   ]
  },
  {
   "cell_type": "code",
   "execution_count": 16,
   "id": "f0f2f554-2383-433b-98e9-0d7a0364dee2",
   "metadata": {},
   "outputs": [
    {
     "data": {
      "text/plain": [
       "activity_id             int64\n",
       "assay_chembl_id        object\n",
       "assay_description      object\n",
       "assay_type             object\n",
       "molecule_chembl_id     object\n",
       "relation               object\n",
       "standard_units         object\n",
       "standard_value        float64\n",
       "target_chembl_id       object\n",
       "target_organism        object\n",
       "type                   object\n",
       "dtype: object"
      ]
     },
     "execution_count": 16,
     "metadata": {},
     "output_type": "execute_result"
    }
   ],
   "source": [
    "# Convert datatype of “standard_value” from “object” to “float”\n",
    "bioactivities_df = bioactivities_df.astype({\"standard_value\": \"float64\"})\n",
    "bioactivities_df.dtypes"
   ]
  },
  {
   "cell_type": "code",
   "execution_count": 17,
   "id": "9dcdb0d9-f594-4443-ad74-7e7d034a0da7",
   "metadata": {
    "scrolled": true
   },
   "outputs": [
    {
     "name": "stdout",
     "output_type": "stream",
     "text": [
      "DataFrame shape: (10419, 11)\n"
     ]
    }
   ],
   "source": [
    "# Delete entries with missing values\n",
    "bioactivities_df.dropna(axis=0, how=\"any\", inplace=True)\n",
    "print(f\"DataFrame shape: {bioactivities_df.shape}\")"
   ]
  },
  {
   "cell_type": "code",
   "execution_count": 21,
   "id": "97a14a71-5a33-4d64-93ad-97df024b2c73",
   "metadata": {},
   "outputs": [
    {
     "name": "stdout",
     "output_type": "stream",
     "text": [
      "Units in downloaded data: ['nM']\n",
      "Number of non-nM entries:    0\n"
     ]
    }
   ],
   "source": [
    "#### Keep only entries with “standard_unit == nM”\n",
    "print(f\"Units in downloaded data: {bioactivities_df['standard_units'].unique()}\")\n",
    "print(\n",
    "    f\"Number of non-nM entries:\\\n",
    "    {bioactivities_df[bioactivities_df['standard_units'] != 'nM'].shape[0]}\"\n",
    ")"
   ]
  },
  {
   "cell_type": "code",
   "execution_count": 22,
   "id": "0cfa992c-bfa2-46b6-ba7c-7be28542e25f",
   "metadata": {},
   "outputs": [
    {
     "name": "stdout",
     "output_type": "stream",
     "text": [
      "Units after filtering: ['nM']\n"
     ]
    }
   ],
   "source": [
    "bioactivities_df = bioactivities_df[bioactivities_df[\"standard_units\"] == \"nM\"]\n",
    "print(f\"Units after filtering: {bioactivities_df['standard_units'].unique()}\")"
   ]
  },
  {
   "cell_type": "code",
   "execution_count": 23,
   "id": "c11ed013-e920-48c3-96cf-97ce03337367",
   "metadata": {},
   "outputs": [
    {
     "name": "stdout",
     "output_type": "stream",
     "text": [
      "DataFrame shape: (10349, 11)\n"
     ]
    }
   ],
   "source": [
    "print(f\"DataFrame shape: {bioactivities_df.shape}\")"
   ]
  },
  {
   "cell_type": "code",
   "execution_count": 24,
   "id": "2e44da88-d96c-4da6-b5f7-b8f547337311",
   "metadata": {},
   "outputs": [
    {
     "name": "stdout",
     "output_type": "stream",
     "text": [
      "DataFrame shape: (6823, 11)\n"
     ]
    }
   ],
   "source": [
    "####  Delete duplicate molecules\n",
    "bioactivities_df.drop_duplicates(\"molecule_chembl_id\", keep=\"first\", inplace=True)\n",
    "print(f\"DataFrame shape: {bioactivities_df.shape}\")"
   ]
  },
  {
   "cell_type": "code",
   "execution_count": 25,
   "id": "5011333e-b703-4cb2-94f5-f22ef61f1577",
   "metadata": {},
   "outputs": [
    {
     "data": {
      "text/html": [
       "<div>\n",
       "<style scoped>\n",
       "    .dataframe tbody tr th:only-of-type {\n",
       "        vertical-align: middle;\n",
       "    }\n",
       "\n",
       "    .dataframe tbody tr th {\n",
       "        vertical-align: top;\n",
       "    }\n",
       "\n",
       "    .dataframe thead th {\n",
       "        text-align: right;\n",
       "    }\n",
       "</style>\n",
       "<table border=\"1\" class=\"dataframe\">\n",
       "  <thead>\n",
       "    <tr style=\"text-align: right;\">\n",
       "      <th></th>\n",
       "      <th>activity_id</th>\n",
       "      <th>assay_chembl_id</th>\n",
       "      <th>assay_description</th>\n",
       "      <th>assay_type</th>\n",
       "      <th>molecule_chembl_id</th>\n",
       "      <th>relation</th>\n",
       "      <th>standard_units</th>\n",
       "      <th>standard_value</th>\n",
       "      <th>target_chembl_id</th>\n",
       "      <th>target_organism</th>\n",
       "      <th>type</th>\n",
       "    </tr>\n",
       "  </thead>\n",
       "  <tbody>\n",
       "    <tr>\n",
       "      <th>0</th>\n",
       "      <td>32260</td>\n",
       "      <td>CHEMBL674637</td>\n",
       "      <td>Inhibitory activity towards tyrosine phosphory...</td>\n",
       "      <td>B</td>\n",
       "      <td>CHEMBL68920</td>\n",
       "      <td>=</td>\n",
       "      <td>nM</td>\n",
       "      <td>41.0</td>\n",
       "      <td>CHEMBL203</td>\n",
       "      <td>Homo sapiens</td>\n",
       "      <td>IC50</td>\n",
       "    </tr>\n",
       "    <tr>\n",
       "      <th>1</th>\n",
       "      <td>32267</td>\n",
       "      <td>CHEMBL674637</td>\n",
       "      <td>Inhibitory activity towards tyrosine phosphory...</td>\n",
       "      <td>B</td>\n",
       "      <td>CHEMBL69960</td>\n",
       "      <td>=</td>\n",
       "      <td>nM</td>\n",
       "      <td>170.0</td>\n",
       "      <td>CHEMBL203</td>\n",
       "      <td>Homo sapiens</td>\n",
       "      <td>IC50</td>\n",
       "    </tr>\n",
       "    <tr>\n",
       "      <th>2</th>\n",
       "      <td>32680</td>\n",
       "      <td>CHEMBL677833</td>\n",
       "      <td>In vitro inhibition of Epidermal growth factor...</td>\n",
       "      <td>B</td>\n",
       "      <td>CHEMBL137635</td>\n",
       "      <td>=</td>\n",
       "      <td>nM</td>\n",
       "      <td>9300.0</td>\n",
       "      <td>CHEMBL203</td>\n",
       "      <td>Homo sapiens</td>\n",
       "      <td>IC50</td>\n",
       "    </tr>\n",
       "    <tr>\n",
       "      <th>3</th>\n",
       "      <td>32770</td>\n",
       "      <td>CHEMBL674643</td>\n",
       "      <td>Inhibitory concentration of EGF dependent auto...</td>\n",
       "      <td>B</td>\n",
       "      <td>CHEMBL306988</td>\n",
       "      <td>=</td>\n",
       "      <td>nM</td>\n",
       "      <td>500000.0</td>\n",
       "      <td>CHEMBL203</td>\n",
       "      <td>Homo sapiens</td>\n",
       "      <td>IC50</td>\n",
       "    </tr>\n",
       "    <tr>\n",
       "      <th>4</th>\n",
       "      <td>32772</td>\n",
       "      <td>CHEMBL674643</td>\n",
       "      <td>Inhibitory concentration of EGF dependent auto...</td>\n",
       "      <td>B</td>\n",
       "      <td>CHEMBL66879</td>\n",
       "      <td>=</td>\n",
       "      <td>nM</td>\n",
       "      <td>3000000.0</td>\n",
       "      <td>CHEMBL203</td>\n",
       "      <td>Homo sapiens</td>\n",
       "      <td>IC50</td>\n",
       "    </tr>\n",
       "  </tbody>\n",
       "</table>\n",
       "</div>"
      ],
      "text/plain": [
       "   activity_id assay_chembl_id  \\\n",
       "0        32260    CHEMBL674637   \n",
       "1        32267    CHEMBL674637   \n",
       "2        32680    CHEMBL677833   \n",
       "3        32770    CHEMBL674643   \n",
       "4        32772    CHEMBL674643   \n",
       "\n",
       "                                   assay_description assay_type  \\\n",
       "0  Inhibitory activity towards tyrosine phosphory...          B   \n",
       "1  Inhibitory activity towards tyrosine phosphory...          B   \n",
       "2  In vitro inhibition of Epidermal growth factor...          B   \n",
       "3  Inhibitory concentration of EGF dependent auto...          B   \n",
       "4  Inhibitory concentration of EGF dependent auto...          B   \n",
       "\n",
       "  molecule_chembl_id relation standard_units  standard_value target_chembl_id  \\\n",
       "0        CHEMBL68920        =             nM            41.0        CHEMBL203   \n",
       "1        CHEMBL69960        =             nM           170.0        CHEMBL203   \n",
       "2       CHEMBL137635        =             nM          9300.0        CHEMBL203   \n",
       "3       CHEMBL306988        =             nM        500000.0        CHEMBL203   \n",
       "4        CHEMBL66879        =             nM       3000000.0        CHEMBL203   \n",
       "\n",
       "  target_organism  type  \n",
       "0    Homo sapiens  IC50  \n",
       "1    Homo sapiens  IC50  \n",
       "2    Homo sapiens  IC50  \n",
       "3    Homo sapiens  IC50  \n",
       "4    Homo sapiens  IC50  "
      ]
     },
     "execution_count": 25,
     "metadata": {},
     "output_type": "execute_result"
    }
   ],
   "source": [
    "#### Reset “DataFrame” index\n",
    "bioactivities_df.reset_index(drop=True, inplace=True)\n",
    "bioactivities_df.head()"
   ]
  },
  {
   "cell_type": "code",
   "execution_count": 26,
   "id": "b6e57e43-64a9-41ab-be54-187336418ca1",
   "metadata": {},
   "outputs": [
    {
     "data": {
      "text/html": [
       "<div>\n",
       "<style scoped>\n",
       "    .dataframe tbody tr th:only-of-type {\n",
       "        vertical-align: middle;\n",
       "    }\n",
       "\n",
       "    .dataframe tbody tr th {\n",
       "        vertical-align: top;\n",
       "    }\n",
       "\n",
       "    .dataframe thead th {\n",
       "        text-align: right;\n",
       "    }\n",
       "</style>\n",
       "<table border=\"1\" class=\"dataframe\">\n",
       "  <thead>\n",
       "    <tr style=\"text-align: right;\">\n",
       "      <th></th>\n",
       "      <th>activity_id</th>\n",
       "      <th>assay_chembl_id</th>\n",
       "      <th>assay_description</th>\n",
       "      <th>assay_type</th>\n",
       "      <th>molecule_chembl_id</th>\n",
       "      <th>relation</th>\n",
       "      <th>units</th>\n",
       "      <th>IC50</th>\n",
       "      <th>target_chembl_id</th>\n",
       "      <th>target_organism</th>\n",
       "      <th>type</th>\n",
       "    </tr>\n",
       "  </thead>\n",
       "  <tbody>\n",
       "    <tr>\n",
       "      <th>0</th>\n",
       "      <td>32260</td>\n",
       "      <td>CHEMBL674637</td>\n",
       "      <td>Inhibitory activity towards tyrosine phosphory...</td>\n",
       "      <td>B</td>\n",
       "      <td>CHEMBL68920</td>\n",
       "      <td>=</td>\n",
       "      <td>nM</td>\n",
       "      <td>41.0</td>\n",
       "      <td>CHEMBL203</td>\n",
       "      <td>Homo sapiens</td>\n",
       "      <td>IC50</td>\n",
       "    </tr>\n",
       "    <tr>\n",
       "      <th>1</th>\n",
       "      <td>32267</td>\n",
       "      <td>CHEMBL674637</td>\n",
       "      <td>Inhibitory activity towards tyrosine phosphory...</td>\n",
       "      <td>B</td>\n",
       "      <td>CHEMBL69960</td>\n",
       "      <td>=</td>\n",
       "      <td>nM</td>\n",
       "      <td>170.0</td>\n",
       "      <td>CHEMBL203</td>\n",
       "      <td>Homo sapiens</td>\n",
       "      <td>IC50</td>\n",
       "    </tr>\n",
       "    <tr>\n",
       "      <th>2</th>\n",
       "      <td>32680</td>\n",
       "      <td>CHEMBL677833</td>\n",
       "      <td>In vitro inhibition of Epidermal growth factor...</td>\n",
       "      <td>B</td>\n",
       "      <td>CHEMBL137635</td>\n",
       "      <td>=</td>\n",
       "      <td>nM</td>\n",
       "      <td>9300.0</td>\n",
       "      <td>CHEMBL203</td>\n",
       "      <td>Homo sapiens</td>\n",
       "      <td>IC50</td>\n",
       "    </tr>\n",
       "    <tr>\n",
       "      <th>3</th>\n",
       "      <td>32770</td>\n",
       "      <td>CHEMBL674643</td>\n",
       "      <td>Inhibitory concentration of EGF dependent auto...</td>\n",
       "      <td>B</td>\n",
       "      <td>CHEMBL306988</td>\n",
       "      <td>=</td>\n",
       "      <td>nM</td>\n",
       "      <td>500000.0</td>\n",
       "      <td>CHEMBL203</td>\n",
       "      <td>Homo sapiens</td>\n",
       "      <td>IC50</td>\n",
       "    </tr>\n",
       "    <tr>\n",
       "      <th>4</th>\n",
       "      <td>32772</td>\n",
       "      <td>CHEMBL674643</td>\n",
       "      <td>Inhibitory concentration of EGF dependent auto...</td>\n",
       "      <td>B</td>\n",
       "      <td>CHEMBL66879</td>\n",
       "      <td>=</td>\n",
       "      <td>nM</td>\n",
       "      <td>3000000.0</td>\n",
       "      <td>CHEMBL203</td>\n",
       "      <td>Homo sapiens</td>\n",
       "      <td>IC50</td>\n",
       "    </tr>\n",
       "  </tbody>\n",
       "</table>\n",
       "</div>"
      ],
      "text/plain": [
       "   activity_id assay_chembl_id  \\\n",
       "0        32260    CHEMBL674637   \n",
       "1        32267    CHEMBL674637   \n",
       "2        32680    CHEMBL677833   \n",
       "3        32770    CHEMBL674643   \n",
       "4        32772    CHEMBL674643   \n",
       "\n",
       "                                   assay_description assay_type  \\\n",
       "0  Inhibitory activity towards tyrosine phosphory...          B   \n",
       "1  Inhibitory activity towards tyrosine phosphory...          B   \n",
       "2  In vitro inhibition of Epidermal growth factor...          B   \n",
       "3  Inhibitory concentration of EGF dependent auto...          B   \n",
       "4  Inhibitory concentration of EGF dependent auto...          B   \n",
       "\n",
       "  molecule_chembl_id relation units       IC50 target_chembl_id  \\\n",
       "0        CHEMBL68920        =    nM       41.0        CHEMBL203   \n",
       "1        CHEMBL69960        =    nM      170.0        CHEMBL203   \n",
       "2       CHEMBL137635        =    nM     9300.0        CHEMBL203   \n",
       "3       CHEMBL306988        =    nM   500000.0        CHEMBL203   \n",
       "4        CHEMBL66879        =    nM  3000000.0        CHEMBL203   \n",
       "\n",
       "  target_organism  type  \n",
       "0    Homo sapiens  IC50  \n",
       "1    Homo sapiens  IC50  \n",
       "2    Homo sapiens  IC50  \n",
       "3    Homo sapiens  IC50  \n",
       "4    Homo sapiens  IC50  "
      ]
     },
     "execution_count": 26,
     "metadata": {},
     "output_type": "execute_result"
    }
   ],
   "source": [
    "bioactivities_df.rename(\n",
    "    columns={\"standard_value\": \"IC50\", \"standard_units\": \"units\"}, inplace=True\n",
    ")\n",
    "bioactivities_df.head()"
   ]
  },
  {
   "cell_type": "code",
   "execution_count": 27,
   "id": "2eeb0d0d-8a69-4f4e-91dd-1d00ae07fa7c",
   "metadata": {},
   "outputs": [
    {
     "name": "stdout",
     "output_type": "stream",
     "text": [
      "DataFrame shape: (6823, 11)\n"
     ]
    }
   ],
   "source": [
    "print(f\"DataFrame shape: {bioactivities_df.shape}\")"
   ]
  },
  {
   "cell_type": "code",
   "execution_count": 28,
   "id": "b55e582d-45ff-4c59-9d23-04744345e1c2",
   "metadata": {},
   "outputs": [],
   "source": [
    "####  Get compound data\n",
    "####  Fetch compound data from ChEMBL\n",
    "compounds_provider = compounds_api.filter(\n",
    "    molecule_chembl_id__in=list(bioactivities_df[\"molecule_chembl_id\"])\n",
    ").only(\"molecule_chembl_id\", \"molecule_structures\")"
   ]
  },
  {
   "cell_type": "code",
   "execution_count": 29,
   "id": "dc855972-a2f0-4733-8f06-265ce322bc7a",
   "metadata": {},
   "outputs": [
    {
     "data": {
      "application/vnd.jupyter.widget-view+json": {
       "model_id": "e1f76403afb64b5b9c533c88b23ff287",
       "version_major": 2,
       "version_minor": 0
      },
      "text/plain": [
       "  0%|          | 0/6823 [00:00<?, ?it/s]"
      ]
     },
     "metadata": {},
     "output_type": "display_data"
    }
   ],
   "source": [
    "#### Download compound data from ChEMBL\n",
    "compounds = list(tqdm(compounds_provider))"
   ]
  },
  {
   "cell_type": "code",
   "execution_count": 30,
   "id": "04714867-43f6-4a31-b936-09dc3df525d4",
   "metadata": {},
   "outputs": [
    {
     "name": "stdout",
     "output_type": "stream",
     "text": [
      "DataFrame shape: (6823, 2)\n"
     ]
    }
   ],
   "source": [
    "compounds_df = pd.DataFrame.from_records(\n",
    "    compounds,\n",
    ")\n",
    "print(f\"DataFrame shape: {compounds_df.shape}\")"
   ]
  },
  {
   "cell_type": "code",
   "execution_count": 31,
   "id": "729ffdcd-76c9-49ea-b209-06391faaa01e",
   "metadata": {},
   "outputs": [
    {
     "data": {
      "text/html": [
       "<div>\n",
       "<style scoped>\n",
       "    .dataframe tbody tr th:only-of-type {\n",
       "        vertical-align: middle;\n",
       "    }\n",
       "\n",
       "    .dataframe tbody tr th {\n",
       "        vertical-align: top;\n",
       "    }\n",
       "\n",
       "    .dataframe thead th {\n",
       "        text-align: right;\n",
       "    }\n",
       "</style>\n",
       "<table border=\"1\" class=\"dataframe\">\n",
       "  <thead>\n",
       "    <tr style=\"text-align: right;\">\n",
       "      <th></th>\n",
       "      <th>molecule_chembl_id</th>\n",
       "      <th>molecule_structures</th>\n",
       "    </tr>\n",
       "  </thead>\n",
       "  <tbody>\n",
       "    <tr>\n",
       "      <th>0</th>\n",
       "      <td>CHEMBL6246</td>\n",
       "      <td>{'canonical_smiles': 'O=c1oc2c(O)c(O)cc3c(=O)o...</td>\n",
       "    </tr>\n",
       "    <tr>\n",
       "      <th>1</th>\n",
       "      <td>CHEMBL10</td>\n",
       "      <td>{'canonical_smiles': 'C[S+]([O-])c1ccc(-c2nc(-...</td>\n",
       "    </tr>\n",
       "    <tr>\n",
       "      <th>2</th>\n",
       "      <td>CHEMBL6976</td>\n",
       "      <td>{'canonical_smiles': 'COc1cc2c(cc1OC)Nc1ncn(C)...</td>\n",
       "    </tr>\n",
       "    <tr>\n",
       "      <th>3</th>\n",
       "      <td>CHEMBL7002</td>\n",
       "      <td>{'canonical_smiles': 'CC1(COc2ccc(CC3SC(=O)NC3...</td>\n",
       "    </tr>\n",
       "    <tr>\n",
       "      <th>4</th>\n",
       "      <td>CHEMBL414013</td>\n",
       "      <td>{'canonical_smiles': 'COc1cc2c(cc1OC)Nc1ncnc(O...</td>\n",
       "    </tr>\n",
       "  </tbody>\n",
       "</table>\n",
       "</div>"
      ],
      "text/plain": [
       "  molecule_chembl_id                                molecule_structures\n",
       "0         CHEMBL6246  {'canonical_smiles': 'O=c1oc2c(O)c(O)cc3c(=O)o...\n",
       "1           CHEMBL10  {'canonical_smiles': 'C[S+]([O-])c1ccc(-c2nc(-...\n",
       "2         CHEMBL6976  {'canonical_smiles': 'COc1cc2c(cc1OC)Nc1ncn(C)...\n",
       "3         CHEMBL7002  {'canonical_smiles': 'CC1(COc2ccc(CC3SC(=O)NC3...\n",
       "4       CHEMBL414013  {'canonical_smiles': 'COc1cc2c(cc1OC)Nc1ncnc(O..."
      ]
     },
     "execution_count": 31,
     "metadata": {},
     "output_type": "execute_result"
    }
   ],
   "source": [
    "compounds_df.head()"
   ]
  },
  {
   "cell_type": "code",
   "execution_count": 33,
   "id": "76480aeb-14aa-44d5-9d61-2d8ccd2f0b5f",
   "metadata": {},
   "outputs": [
    {
     "name": "stdout",
     "output_type": "stream",
     "text": [
      "DataFrame shape: (6816, 2)\n"
     ]
    }
   ],
   "source": [
    "#### Remove entries with missing molecule structure entry\n",
    "compounds_df.dropna(axis=0, how=\"any\", inplace=True)\n",
    "print(f\"DataFrame shape: {compounds_df.shape}\")"
   ]
  },
  {
   "cell_type": "code",
   "execution_count": 34,
   "id": "4836e884-785c-4326-b0c9-af9bd67bfd33",
   "metadata": {},
   "outputs": [
    {
     "name": "stdout",
     "output_type": "stream",
     "text": [
      "DataFrame shape: (6816, 2)\n"
     ]
    }
   ],
   "source": [
    "#### Delete duplicate molecules\n",
    "compounds_df.drop_duplicates(\"molecule_chembl_id\", keep=\"first\", inplace=True)\n",
    "print(f\"DataFrame shape: {compounds_df.shape}\")"
   ]
  },
  {
   "cell_type": "code",
   "execution_count": 35,
   "id": "4669e4e4-0c5a-409c-bfae-9f74ef8e241a",
   "metadata": {},
   "outputs": [
    {
     "data": {
      "text/plain": [
       "dict_keys(['canonical_smiles', 'molfile', 'standard_inchi', 'standard_inchi_key'])"
      ]
     },
     "execution_count": 35,
     "metadata": {},
     "output_type": "execute_result"
    }
   ],
   "source": [
    "compounds_df.iloc[0].molecule_structures.keys()"
   ]
  },
  {
   "cell_type": "code",
   "execution_count": 36,
   "id": "6fcd8131-aa9c-4d09-9245-e0cdc6a5e310",
   "metadata": {},
   "outputs": [
    {
     "name": "stdout",
     "output_type": "stream",
     "text": [
      "DataFrame shape: (6816, 2)\n"
     ]
    }
   ],
   "source": [
    "#### Get molecules with canonical SMILES\n",
    "\n",
    "canonical_smiles = []\n",
    "\n",
    "for i, compounds in compounds_df.iterrows():\n",
    "    try:\n",
    "        canonical_smiles.append(compounds[\"molecule_structures\"][\"canonical_smiles\"])\n",
    "    except KeyError:\n",
    "        canonical_smiles.append(None)\n",
    "\n",
    "compounds_df[\"smiles\"] = canonical_smiles\n",
    "compounds_df.drop(\"molecule_structures\", axis=1, inplace=True)\n",
    "print(f\"DataFrame shape: {compounds_df.shape}\")"
   ]
  },
  {
   "cell_type": "code",
   "execution_count": 37,
   "id": "846c93c4-058c-4b4f-b8e9-586d8da6c3f2",
   "metadata": {},
   "outputs": [
    {
     "name": "stdout",
     "output_type": "stream",
     "text": [
      "DataFrame shape: (6816, 2)\n"
     ]
    }
   ],
   "source": [
    "#### Remove all molecules without a canonical SMILES string.\n",
    "compounds_df.dropna(axis=0, how=\"any\", inplace=True)\n",
    "print(f\"DataFrame shape: {compounds_df.shape}\")"
   ]
  },
  {
   "cell_type": "code",
   "execution_count": 38,
   "id": "0d28ae56-57b2-48da-af10-7d4b8a4fdfe3",
   "metadata": {},
   "outputs": [
    {
     "name": "stdout",
     "output_type": "stream",
     "text": [
      "Bioactivities filtered: 6823\n"
     ]
    },
    {
     "data": {
      "text/plain": [
       "Index(['activity_id', 'assay_chembl_id', 'assay_description', 'assay_type',\n",
       "       'molecule_chembl_id', 'relation', 'units', 'IC50', 'target_chembl_id',\n",
       "       'target_organism', 'type'],\n",
       "      dtype='object')"
      ]
     },
     "execution_count": 38,
     "metadata": {},
     "output_type": "execute_result"
    }
   ],
   "source": [
    "#### Summary of compound and bioactivity data\n",
    "print(f\"Bioactivities filtered: {bioactivities_df.shape[0]}\")\n",
    "bioactivities_df.columns"
   ]
  },
  {
   "cell_type": "code",
   "execution_count": 40,
   "id": "b9b7bcf8-a4c0-4fc7-83b7-f30ff72bbf68",
   "metadata": {},
   "outputs": [
    {
     "name": "stdout",
     "output_type": "stream",
     "text": [
      "Compounds filtered: 6816\n"
     ]
    },
    {
     "data": {
      "text/plain": [
       "Index(['molecule_chembl_id', 'smiles'], dtype='object')"
      ]
     },
     "execution_count": 40,
     "metadata": {},
     "output_type": "execute_result"
    }
   ],
   "source": [
    "print(f\"Compounds filtered: {compounds_df.shape[0]}\")\n",
    "compounds_df.columns"
   ]
  },
  {
   "cell_type": "code",
   "execution_count": 39,
   "id": "86d62d33-b0a8-4cd8-ab7d-07b84dc789cb",
   "metadata": {},
   "outputs": [
    {
     "name": "stdout",
     "output_type": "stream",
     "text": [
      "Dataset with 6816 entries.\n"
     ]
    }
   ],
   "source": [
    "#### Merge DataFrames\n",
    "output_df = pd.merge(\n",
    "    bioactivities_df[[\"molecule_chembl_id\", \"IC50\", \"units\"]],\n",
    "    compounds_df,\n",
    "    on=\"molecule_chembl_id\",\n",
    ")\n",
    "\n",
    "# Reset row indices\n",
    "output_df.reset_index(drop=True, inplace=True)\n",
    "\n",
    "print(f\"Dataset with {output_df.shape[0]} entries.\")"
   ]
  },
  {
   "cell_type": "code",
   "execution_count": 42,
   "id": "6c963da6-38f3-4817-8775-3524a595ccd8",
   "metadata": {},
   "outputs": [
    {
     "data": {
      "text/plain": [
       "molecule_chembl_id     object\n",
       "IC50                  float64\n",
       "units                  object\n",
       "smiles                 object\n",
       "dtype: object"
      ]
     },
     "execution_count": 42,
     "metadata": {},
     "output_type": "execute_result"
    }
   ],
   "source": [
    "output_df.dtypes"
   ]
  },
  {
   "cell_type": "code",
   "execution_count": 43,
   "id": "9b7c452f-2571-4734-bc43-1243e35ee450",
   "metadata": {},
   "outputs": [
    {
     "data": {
      "text/html": [
       "<div>\n",
       "<style scoped>\n",
       "    .dataframe tbody tr th:only-of-type {\n",
       "        vertical-align: middle;\n",
       "    }\n",
       "\n",
       "    .dataframe tbody tr th {\n",
       "        vertical-align: top;\n",
       "    }\n",
       "\n",
       "    .dataframe thead th {\n",
       "        text-align: right;\n",
       "    }\n",
       "</style>\n",
       "<table border=\"1\" class=\"dataframe\">\n",
       "  <thead>\n",
       "    <tr style=\"text-align: right;\">\n",
       "      <th></th>\n",
       "      <th>molecule_chembl_id</th>\n",
       "      <th>IC50</th>\n",
       "      <th>units</th>\n",
       "      <th>smiles</th>\n",
       "    </tr>\n",
       "  </thead>\n",
       "  <tbody>\n",
       "    <tr>\n",
       "      <th>0</th>\n",
       "      <td>CHEMBL68920</td>\n",
       "      <td>41.0</td>\n",
       "      <td>nM</td>\n",
       "      <td>Cc1cc(C)c(/C=C2\\C(=O)Nc3ncnc(Nc4ccc(F)c(Cl)c4)...</td>\n",
       "    </tr>\n",
       "    <tr>\n",
       "      <th>1</th>\n",
       "      <td>CHEMBL69960</td>\n",
       "      <td>170.0</td>\n",
       "      <td>nM</td>\n",
       "      <td>Cc1cc(C(=O)N2CCOCC2)[nH]c1/C=C1\\C(=O)Nc2ncnc(N...</td>\n",
       "    </tr>\n",
       "    <tr>\n",
       "      <th>2</th>\n",
       "      <td>CHEMBL137635</td>\n",
       "      <td>9300.0</td>\n",
       "      <td>nM</td>\n",
       "      <td>CN(c1ccccc1)c1ncnc2ccc(N/N=N/Cc3ccccn3)cc12</td>\n",
       "    </tr>\n",
       "    <tr>\n",
       "      <th>3</th>\n",
       "      <td>CHEMBL306988</td>\n",
       "      <td>500000.0</td>\n",
       "      <td>nM</td>\n",
       "      <td>CC(=C(C#N)C#N)c1ccc(NC(=O)CCC(=O)O)cc1</td>\n",
       "    </tr>\n",
       "    <tr>\n",
       "      <th>4</th>\n",
       "      <td>CHEMBL66879</td>\n",
       "      <td>3000000.0</td>\n",
       "      <td>nM</td>\n",
       "      <td>O=C(O)/C=C/c1ccc(O)cc1</td>\n",
       "    </tr>\n",
       "    <tr>\n",
       "      <th>5</th>\n",
       "      <td>CHEMBL77085</td>\n",
       "      <td>96000.0</td>\n",
       "      <td>nM</td>\n",
       "      <td>N#CC(C#N)=Cc1cc(O)ccc1[N+](=O)[O-]</td>\n",
       "    </tr>\n",
       "    <tr>\n",
       "      <th>6</th>\n",
       "      <td>CHEMBL443268</td>\n",
       "      <td>5310.0</td>\n",
       "      <td>nM</td>\n",
       "      <td>Cc1cc(C(=O)NCCN2CCOCC2)[nH]c1/C=C1\\C(=O)N(C)c2...</td>\n",
       "    </tr>\n",
       "    <tr>\n",
       "      <th>7</th>\n",
       "      <td>CHEMBL76979</td>\n",
       "      <td>264000.0</td>\n",
       "      <td>nM</td>\n",
       "      <td>COc1cc(/C=C(\\C#N)C(=O)O)cc(OC)c1O</td>\n",
       "    </tr>\n",
       "    <tr>\n",
       "      <th>8</th>\n",
       "      <td>CHEMBL76589</td>\n",
       "      <td>125.0</td>\n",
       "      <td>nM</td>\n",
       "      <td>N#CC(C#N)=C(N)/C(C#N)=C/c1ccc(O)cc1</td>\n",
       "    </tr>\n",
       "    <tr>\n",
       "      <th>9</th>\n",
       "      <td>CHEMBL76904</td>\n",
       "      <td>35000.0</td>\n",
       "      <td>nM</td>\n",
       "      <td>N#CC(C#N)=Cc1ccc(O)c(O)c1</td>\n",
       "    </tr>\n",
       "  </tbody>\n",
       "</table>\n",
       "</div>"
      ],
      "text/plain": [
       "  molecule_chembl_id       IC50 units  \\\n",
       "0        CHEMBL68920       41.0    nM   \n",
       "1        CHEMBL69960      170.0    nM   \n",
       "2       CHEMBL137635     9300.0    nM   \n",
       "3       CHEMBL306988   500000.0    nM   \n",
       "4        CHEMBL66879  3000000.0    nM   \n",
       "5        CHEMBL77085    96000.0    nM   \n",
       "6       CHEMBL443268     5310.0    nM   \n",
       "7        CHEMBL76979   264000.0    nM   \n",
       "8        CHEMBL76589      125.0    nM   \n",
       "9        CHEMBL76904    35000.0    nM   \n",
       "\n",
       "                                              smiles  \n",
       "0  Cc1cc(C)c(/C=C2\\C(=O)Nc3ncnc(Nc4ccc(F)c(Cl)c4)...  \n",
       "1  Cc1cc(C(=O)N2CCOCC2)[nH]c1/C=C1\\C(=O)Nc2ncnc(N...  \n",
       "2        CN(c1ccccc1)c1ncnc2ccc(N/N=N/Cc3ccccn3)cc12  \n",
       "3             CC(=C(C#N)C#N)c1ccc(NC(=O)CCC(=O)O)cc1  \n",
       "4                             O=C(O)/C=C/c1ccc(O)cc1  \n",
       "5                 N#CC(C#N)=Cc1cc(O)ccc1[N+](=O)[O-]  \n",
       "6  Cc1cc(C(=O)NCCN2CCOCC2)[nH]c1/C=C1\\C(=O)N(C)c2...  \n",
       "7                  COc1cc(/C=C(\\C#N)C(=O)O)cc(OC)c1O  \n",
       "8                N#CC(C#N)=C(N)/C(C#N)=C/c1ccc(O)cc1  \n",
       "9                          N#CC(C#N)=Cc1ccc(O)c(O)c1  "
      ]
     },
     "execution_count": 43,
     "metadata": {},
     "output_type": "execute_result"
    }
   ],
   "source": [
    "output_df.head(10)"
   ]
  },
  {
   "cell_type": "code",
   "execution_count": 44,
   "id": "f31819d5-d9cf-4046-8b91-decc02a40841",
   "metadata": {},
   "outputs": [],
   "source": [
    "def convert_ic50_to_pic50(IC50_value):\n",
    "    pIC50_value = 9 - math.log10(IC50_value)\n",
    "    return pIC50_value"
   ]
  },
  {
   "cell_type": "code",
   "execution_count": 45,
   "id": "9af77c4f-3c8d-42e7-a7d7-abe558ad49ba",
   "metadata": {},
   "outputs": [],
   "source": [
    "#### Apply conversion to each row of the compounds DataFrame\n",
    "output_df[\"pIC50\"] = output_df.apply(lambda x: convert_ic50_to_pic50(x.IC50), axis=1)"
   ]
  },
  {
   "cell_type": "code",
   "execution_count": 46,
   "id": "b75f690a-038b-49b3-b741-14757138d8f2",
   "metadata": {},
   "outputs": [
    {
     "data": {
      "text/plain": [
       "array([[<Axes: title={'center': 'pIC50'}>]], dtype=object)"
      ]
     },
     "execution_count": 46,
     "metadata": {},
     "output_type": "execute_result"
    },
    {
     "data": {
      "image/png": "[encoded data removed]",
      "text/plain": [
       "<Figure size 640x480 with 1 Axes>"
      ]
     },
     "metadata": {},
     "output_type": "display_data"
    }
   ],
   "source": [
    "output_df.hist(column=\"pIC50\")"
   ]
  },
  {
   "cell_type": "code",
   "execution_count": 62,
   "id": "0edb8062-a7b1-4bd6-97d6-308597094d6c",
   "metadata": {},
   "outputs": [],
   "source": [
    "# Add molecule column\n",
    "PandasTools.AddMoleculeColumnToFrame(output_df, smilesCol=\"smiles\")"
   ]
  },
  {
   "cell_type": "code",
   "execution_count": 63,
   "id": "ef238f80-4a71-4570-8222-a17176199308",
   "metadata": {},
   "outputs": [],
   "source": [
    "# Sort molecules by pIC50\n",
    "output_df.sort_values(by=\"pIC50\", ascending=False, inplace=True)\n",
    "\n",
    "# Reset index\n",
    "output_df.reset_index(drop=True, inplace=True)"
   ]
  },
  {
   "cell_type": "code",
   "execution_count": 67,
   "id": "6c18f294-fc66-405d-bb16-75625020dcc1",
   "metadata": {},
   "outputs": [
    {
     "data": {
      "text/html": [
       "<div>\n",
       "<style scoped>\n",
       "    .dataframe tbody tr th:only-of-type {\n",
       "        vertical-align: middle;\n",
       "    }\n",
       "\n",
       "    .dataframe tbody tr th {\n",
       "        vertical-align: top;\n",
       "    }\n",
       "\n",
       "    .dataframe thead th {\n",
       "        text-align: right;\n",
       "    }\n",
       "</style>\n",
       "<table border=\"1\" class=\"dataframe\">\n",
       "  <thead>\n",
       "    <tr style=\"text-align: right;\">\n",
       "      <th></th>\n",
       "      <th>molecule_chembl_id</th>\n",
       "      <th>IC50</th>\n",
       "      <th>units</th>\n",
       "      <th>smiles</th>\n",
       "      <th>pIC50</th>\n",
       "      <th>ROMol</th>\n",
       "    </tr>\n",
       "  </thead>\n",
       "  <tbody>\n",
       "    <tr>\n",
       "      <th>0</th>\n",
       "      <td>CHEMBL63786</td>\n",
       "      <td>3.000000e-03</td>\n",
       "      <td>nM</td>\n",
       "      <td>Brc1cccc(Nc2ncnc3cc4ccccc4cc23)c1</td>\n",
       "      <td>11.522879</td>\n",
       "      <td style=\"text-align: center;\"><div style=\"width: 200px; height: 200px\" data-content=\"rdkit/molecule\"><img src=\"data:image/png;base64,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\" alt=\"Mol\"/></div></td>\n",
       "    </tr>\n",
       "    <tr>\n",
       "      <th>1</th>\n",
       "      <td>CHEMBL35820</td>\n",
       "      <td>6.000000e-03</td>\n",
       "      <td>nM</td>\n",
       "      <td>CCOc1cc2ncnc(Nc3cccc(Br)c3)c2cc1OCC</td>\n",
       "      <td>11.221849</td>\n",
       "      <td style=\"text-align: center;\"><div style=\"width: 200px; height: 200px\" data-content=\"rdkit/molecule\"><img src=\"data:image/png;base64,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\" alt=\"Mol\"/></div></td>\n",
       "    </tr>\n",
       "    <tr>\n",
       "      <th>2</th>\n",
       "      <td>CHEMBL53711</td>\n",
       "      <td>6.000000e-03</td>\n",
       "      <td>nM</td>\n",
       "      <td>CN(C)c1cc2c(Nc3cccc(Br)c3)ncnc2cn1</td>\n",
       "      <td>11.221849</td>\n",
       "      <td style=\"text-align: center;\"><div style=\"width: 200px; height: 200px\" data-content=\"rdkit/molecule\"><img src=\"data:image/png;base64,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\" alt=\"Mol\"/></div></td>\n",
       "    </tr>\n",
       "    <tr>\n",
       "      <th>3</th>\n",
       "      <td>CHEMBL53753</td>\n",
       "      <td>8.000000e-03</td>\n",
       "      <td>nM</td>\n",
       "      <td>CNc1cc2c(Nc3cccc(Br)c3)ncnc2cn1</td>\n",
       "      <td>11.096910</td>\n",
       "      <td style=\"text-align: center;\"><div style=\"width: 200px; height: 200px\" data-content=\"rdkit/molecule\"><img src=\"data:image/png;base64,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\" alt=\"Mol\"/></div></td>\n",
       "    </tr>\n",
       "    <tr>\n",
       "      <th>4</th>\n",
       "      <td>CHEMBL66031</td>\n",
       "      <td>8.000000e-03</td>\n",
       "      <td>nM</td>\n",
       "      <td>Brc1cccc(Nc2ncnc3cc4[nH]cnc4cc23)c1</td>\n",
       "      <td>11.096910</td>\n",
       "      <td style=\"text-align: center;\"><div style=\"width: 200px; height: 200px\" data-content=\"rdkit/molecule\"><img src=\"data:image/png;base64,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\" alt=\"Mol\"/></div></td>\n",
       "    </tr>\n",
       "    <tr>\n",
       "      <th>...</th>\n",
       "      <td>...</td>\n",
       "      <td>...</td>\n",
       "      <td>...</td>\n",
       "      <td>...</td>\n",
       "      <td>...</td>\n",
       "      <td>...</td>\n",
       "    </tr>\n",
       "    <tr>\n",
       "      <th>6811</th>\n",
       "      <td>CHEMBL261238</td>\n",
       "      <td>5.000000e+06</td>\n",
       "      <td>nM</td>\n",
       "      <td>CN(c1cccnc1)c1cc2c(Nc3ccc(F)c(Cl)c3)c(C#N)cnc2cn1</td>\n",
       "      <td>2.301030</td>\n",
       "      <td style=\"text-align: center;\"><div style=\"width: 200px; height: 200px\" data-content=\"rdkit/molecule\"><img src=\"data:image/png;base64,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\" alt=\"Mol\"/></div></td>\n",
       "    </tr>\n",
       "    <tr>\n",
       "      <th>6812</th>\n",
       "      <td>CHEMBL76587</td>\n",
       "      <td>6.500000e+06</td>\n",
       "      <td>nM</td>\n",
       "      <td>N#CC(C#N)Cc1ccc(O)cc1</td>\n",
       "      <td>2.187087</td>\n",
       "      <td style=\"text-align: center;\"><div style=\"width: 200px; height: 200px\" data-content=\"rdkit/molecule\"><img src=\"data:image/png;base64,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\" alt=\"Mol\"/></div></td>\n",
       "    </tr>\n",
       "    <tr>\n",
       "      <th>6813</th>\n",
       "      <td>CHEMBL490510</td>\n",
       "      <td>1.900000e+07</td>\n",
       "      <td>nM</td>\n",
       "      <td>O=C(/C=C/c1ccc(O)c(O)c1)c1ccc(O[C@@H]2O[C@H](C...</td>\n",
       "      <td>1.721246</td>\n",
       "      <td style=\"text-align: center;\"><div style=\"width: 200px; height: 200px\" data-content=\"rdkit/molecule\"><img src=\"data:image/png;base64,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\" alt=\"Mol\"/></div></td>\n",
       "    </tr>\n",
       "    <tr>\n",
       "      <th>6814</th>\n",
       "      <td>CHEMBL45068</td>\n",
       "      <td>2.500000e+07</td>\n",
       "      <td>nM</td>\n",
       "      <td>O=C(CCc1ccc(O)cc1)c1c(O)cc(O)cc1O</td>\n",
       "      <td>1.602060</td>\n",
       "      <td style=\"text-align: center;\"><div style=\"width: 200px; height: 200px\" data-content=\"rdkit/molecule\"><img src=\"data:image/png;base64,iVBORw0KGgoAAAANSUhEUgAAAMgAAADICAIAAAAiOjnJAAAABmJLR0QA/wD/AP+gvaeTAAATaUlEQVR4nO3df1BU5f4H8A8Li/xS+aEgBIqjoiQqaAiJCqZWXslJE62+QdroNo0OYz907VbDvU7mWl1DqK7bzZTKcVq8cYdEDcxkEBRQ4scIggiarogCirv8Xvb5/vFspw11BfZ8lgU/r7+WPWc/5+zy3uc85+w+z9owxoAQsUkGegfI0ETBIigoWAQFBYugoGARFBQsgoKCRVBQsAgKChZBQcEiKChYBAUFi6CgYBEUFCyCgoJFUFCwCAoKFkFBwSIoKFgEBQWLoKBgERQULIKCgkVQULAICgoWQUHBIigoWAQFBYugoGARFBQsgoKCRVBQsAgKChZBQcEiKChYBAUFi6CgYBEUFCyCgoJFUFCwCAoKFkFBwSIoKFgEBQWLoKBgERQULIKCgkVQULAICgoWQUHBIigoWAQFBYugoGARFBQsgoKCRVBQsAgKChZBQcEiKChYBAUFi6CgYBEUFCyCgoJFUFCwCAoKFkFhMlh37xpudHRAR4fh9p07f95PyAPYMMYeuHDhQvjlFwCAvXvB0RFWr4Y1a8DNDTo7AQD27LHQPpJBqC+Hwh9/hOnTISkJ9uwBNzc4fhxtr8igZzJYajW89hq89hrs3w8AUF4OwcGGRTNnQnk59s7hEg7uACA02ybab9IXJoP12GPwzTfwzTewZg0AgJcX1NUZFqnV4OWF0dn6/fffZ82aFRYWtnfvXtGLGxQVQXQ0vPkmREdDURFUVsKGDYZFa9bAtWtY232U2PVh3dWr4YUXwNsbOjvhp5/gf/+DBQvA2xv+/W/w9TV/VxoaGj799NOkpKS2tjYAKCwszM7OTkxMdHd3N7/4X7z7Lhw8CO7u0NgIL70Eycki1ycAwEzIzDTcuHiR1dQwxlhDA0tJYQcOsOZmdu4cGz6cATBXV/af/zC93lQpkxobG999911nZ2cAkEgkS5cuXbly5bBhwwDA29v70KFD/a58f3Pn/uX2hQtsyhS2di1bu5ZNnMiuXhV5c48kk8F6KLWaLV/OABgAmzePVVT0tYBGo1EoFK6urjzlixYtOnv27NmzZxljZWVl4eHh/P7o6Ohr166ZtauMMZ2Offcd02pZRIThbaDXs4gIduECe+MNwzpxcRQsUZgXLO7gQebpyQCYoyPbsYN1dfXmQe3t7Uql0svLS4hUQUFBVlZWSEiIvb19TU0NY0yv1yuVyuHDhwOAq6urUqnU969d1OtZejqbPp0BMIWCbd/Otm9nVVXsww/ZRx8N6mDV1dU1NjYibkCnY2lp7IsvWFkZY4xdvMguXDAs+uknE48TI1iMsdu3mUzGbGxaAwJmh4Tk5+ebWLezs1OpVPr4+PBIzZkz55dffjl69OgTTzzB7/H398/JyRHWV6vVy5cv54vmzZtX0dd2MT2dzZhhaFYnTmT8wJqRwbZvZ0eOMMZYUxM7ccKw8s8/M42mb/UHyM2bNzdu3GhjYyORSNatW9fe3o6ymbg4tncvKyhgq1ezzEx24AD7+mvDoqeeMvE4kYLFZWa+vXAhANja2r799tstLS09lnd3d6tUqgkTJvCUTJ8+XaVS5ebmLliwgN8zevRohULR1tZ2b22VSuXp6QkAjo6OCQkJHR0dD9+fnBw2f74hUn5+LDGRIb36lnXr1q3Nmzc7OTkZ95WnTp2al5cn8pbq69nzzxtu19Wx5cvZgQPss89YfT2rr2eRkSYeKmqwGGttbZXL5ba2tgAwfvz4n3/+md/PIxUQECC8CiqV6syZM9HR0fweDw8PhULR2tpqonhTU5NMJrOxseGhLCgoeNCaeXl5ixctap08mQGw0aOZQsHuF9ZBh3dJR44cCQA2NjbR0dHnzp3Lzs4ODAzk98hksrt374q2vfJytn694bZOxyIj2YED7G9/Y1u3sq1b2dSpJh4qcrC44uJi4bgWExNz6NChkJAQ/uf48eOVSmVpaWlMTAyPyPDhw+Vy+Z07d3pZ/OTJkzygdnZ28fHxmr8euQoLC5csWcK3tWPBArZzJ7un4RyMtFptYmIib7OFLmlqaurOnTsZY21tbQkJCfb29gDg4+Pz448/mrWx7m6mUrGIiL80S2fOsA0bBuhQaKSrq2vHjh2Ojo48AbzntG/fvosXL8pkMt6kOTs7y+Xypqamvhbv0S5mZmYyxs6fPy+E1cXFRS6X3759G+GZWVpHR4dSqfT29uaRioiIOHnyZFZW1qxZswBAKpVeunSJr1laWhoWFiacR6vV6j5vTK9naWksKMjQf0hOZt99x55/nr3zDouOZmr1wAeLq6qq4ud0//znPy9durRmzRqeBgcHhzfffLO+vt6c4gUFBTNmzOCHgMDAQIlEAgBOTk5yubyhoUGspzCAOjs7U1JSxo8fz7MSHh6enp6ek5MTGRnJ7/H19U1MTDTutnd3dyuVShcXl/6cR2dlsdBQQ6TGjmVKpeEEv6uL3bplWEen+/Os32TvAjdYjLHRo0cDQH19fWlpqUQikUqlsbGx/GqC+bq6uhITEx0cHPz9/aVSqUwm68/b1PrwLumkSZN4gIKCglQqVV5e3qJFi/g9o0aNMtElra2tfeaZZ/iakZGRlZWVpjd3ISeHzZ1riJSPD/v8c9abcyOT0IPFj4b8DPGLL74QK1LGXnjhBQD45JNPRK9seXq9Pj09nbfEABAYGJiSklJSUiIc5d3d3RMSEpqbmx9aSqVS8Xe1o6OjQqHQ6XT3rpOfnx8dHW0rkbROmcI8PJhCwUyeP/UebrB0Oh3/lKafFzZNeuutt0aOHPn555+vXLkSAH744QfRN2FhX3/99dixY3mkJkyY8O2335aVlcXGxvKjfD86jvw8mhecMWNGYWGhsKikpGTZsmV8kaur65HPPmMink5iB6u5uZmf92EU5y/Znj17+GlgRkYGxlYs5u7du/zSlI+PT2JiYlVVlXCWM2zYMJlMduPGjf5VPnLkyLhx44Tz6KKiotjYWDPPnx4KN1hqtRoAvL29MYq//PLLAPD999/PmzcPALKzszG2YjG1tbX8tObOnTtffvmlVCoFAHt7+40bN16/ft3M4hqNJj4+nrd8vLIo508m4A6m0Gq1vA1HLY66FYvp7u4GAG9v75EjR86dO5cxFhMTU15enpycLFxr6DcXF5fdu3fn5ua6u7s7OjquWrWqurp6165dwoUx0fXl+1h9R8HqvZaWFvjjWUybNu3atWvCJ/TmO3bsmEajiYqK8vLyqqioSEhIeOyxx8Qqfl+WCBb/ohVS8SETrB7PQsRUAcC2bdtOnz6dm5trsdcK91Bo/C5EKu7s7CzcwNiKxQyx1n3Q97EoWH0qTsHqbXE7O7vu7m5HR0f+ieTghfpa8feevb19V1eXVCrlH1ejGvTB4gZ7BwuMjuwYxS3/Wg3WYOl0uo6ODjs7u66uLhj8x0HAfK30en1bW5tEIuFXNIZCsPDehRqNBow6WNRimaDVahljTk5OlnytLNFiYbxYwms0NK41AGaLNSCvleUuN/BhqGIZYhexADNYPV4ry3QbLNfHiouLW7JkyZUrV8StTMHqfeWhcyjMz88HgOPHj6vV6hMnThw7diwoKGj37t28F2kOvV7v4eExatSoIRYspD4WDLFD4cKFCwFg375927ZtKygoiI2N1Wq1mzZtCg0NLSoqMqfy7NmzGxoa+EdgAMC/Tjio4TUnwmnB0AnWxx9/vHLlSjs7u6+++mrhwoUvvvji4cOHx44d+9tvv4WFhW3durW9vb3fxRljqampH330ka+vb0ZGxpkzZ0Tcc8uzWB9rKATLzc0tNTX17Nmzs2fPvnLlytKlS1NSUrKzs+VyuV6v37lz57Rp006cONHXsoyx9PT04ODgVatWqdVqjUZz/fr1uXPnbtq0yfhKoFjS0tKWLVv2yiuviHv+0YPxf/3w4cNNTU2iV7ZotwHpe149GI8ecXNzUyqVp06devzxxwHAxsYmNja29xMQ5OTk8G/2AYCfn59SqdRoNMaj6tLS0sTa7fLycuGbwQAQFBR05swZsYr34O/vDwA1NTWVlZUODg5eXl4pKSmiVE5OTgaADRs2yOVyANixY4coZU2zULC4mpqap59+mv+TIiMjz58/r1Aoej9dUV5e3lNPPcUffu9g/JKSktmzZ/OlMTExN2/eNGdXq6urhUg5OTmFhob6+voCgK2tLW8XzSnew927dxUKhYuLy4gRIzZv3lxRUSEM8Hruueeumj1JSW5urlwuT0tL27hxIwAkJSWJstumWTRYnEqlGjVqFPwxeqS0tPSh0xXxYSp8HQ8Pj4SEhPsOJL+3XezHII6rV6/Gx8fzuBsPKWttbRXaRX9//2PHjvXjufeg0Wg+/PBDNzc3/tT4OJwZM2bk5+enpKR4eHjwWD9ojE2fdHd380bxvffeM3/PH2oAgsUYa2xsFEaPBAcHFxQUJCUl8UD4+voaT/hx7/jmhw7GN24Xo6KiqqqqerlXt27dksvl/ARTIpHExMRUV1f3WKekpCQ0NNT8dpGPbx4zZgwvFRERkZ2dnZ2dPXnyZL51mUzGW02+wpw5c86fP9+/bTHGsrKygv+YP1b8iezuZ2CCxWVkZBiPHrl48eLy5ct37drFl9bW1hoPxo+Pj+/TN/+FdrE37/jGxsaEhIQRI0YIkTIxyJOPkjVuF3u/V+yPWZyEbwaHh4cfP35cWMrbRT7egbeL6enpfn5+vPmUy+V9na4oIyNj5syZfFu+vr7x8fF9eni/DWSwGGMtLS3CLAwTJkw4fvx4d3f3lStXZDIZ/36Vvb29TCbr3zCV+vp64R0fEhLCJwrs4d4pBYuKinpTvKamZvHixfxRzz777OXLlx/6ED6+eeLEifxR06ZNU6lU912zuLjYuF2srq4WxthMmjTp119/7c0enjp1Kioqihfx9PRUKBRYc2jdzwAHi8vLy5s6dSrvZAQHB/N+jFQqff31183vumZkZPBRoHZ2dnK5XOjvt7S0JCYm9phSsK/Fe9ku8vHN06dP59sKDAxUqVSm+3+8XeQX4nm7mJOT08vpioznhzI9GB+PVQSLMdbZ2alQKKRS6bhx4/jBqPd9o4fq0S4ePHgwOTnZeErBE8KMfn1348YN43bx3LlzPVbIysoSDkb+/v5KpbL3PfFLly4J8zUsWbKksrLS9HRFZWVlPeaH6s1gfAzWEizupZdeAoD3338fozgfVQdGQkJCMoWZoc1z33YxJydn/vz5fFt+fn49ZobpPZVKZXyGWFxczKcrevXVV4V1KioqhOsjeOObe8+6ghUXFwcA+/fvR6rP56SUSqX8H3BBmKdVDM3NzRs2bOCVPT09hemHxowZk5SUZGb/pke7WFhYmJSUxGdrunz5co8uaV1dnUjPqf+sK1grVqxAPR/mb/TTp0/z46AIU3zfIzc3V5h+yM3N7UGX3Prn8OHDwhnili1biouLe1xyw3hG/WNdweKzOh09ehSpPj9FKCsr49N4Ik3519zcvGXLlvXr15s/58J9i7/xxhvCp0z84Lt27dra2lrRt2UO6wpWREQEABjPxS0uftmstraWHzg6OzuRNoQtOzvb2dnZxsYmPDxc3AO6WKxrLB72x++8vq2trU6nc3Bw4NchB6P58+drtdrW1tYek3JbD+v66V7sYPGvvHFDYMSY1aYKsCcF6StVYGCbn58nTrB0Ol17e7utra0lh9c9sqwrWDNPngStFnDaEr1WmxAV1T1s2LDW1v+LiBiFNjUUgYf8JrSFMQZ2dsAY6HQgQThGq9Xg6ws+PvDf/8KTT0JYGAzybzNbM2vqY7W0gF4PTk4oqQIA/q1lF5c/bxA01hQs7P83BcuCKFgExaMXLGfnP28QNNYXLLz/N7+IRS2WRVjT5YaAAEhJAdF/s14g5ElIGEFjNS3W1auwaROcPAn798Nvv0FTE6xbZ1j0wQdw/rwIm3BxgYAAGDsW9HqQSOhQiMpqWqzNm2HbNggIgNu3YcUKSE0FjcawqKUFdDoRNrFqFTz5JGRmwogR0NICDg4i1CQPYDUt1vXrwH/Y180N7OygowMKC2HdOli3DrKyxNlEZSWsXw+TJwMArFgBer04Zcn9WE2LBWA4QgFARwdIpRAaCl99BQDwzjvi1N+7Fz74ACIiAABOn4aCAvhjoCwRndW0WEuXwr/+Bc3N8MMPMGWKIWESiZhX4RsaQPi5hzFj4NYt0SqTe1hNsLZsAT8/+Mc/4M4d+PJLcHKCFSsMixYvBlF+/yMoCM6dM9wuKoKpU0WoSR7Amj6ExqbVQlwcTJwIdXUQGAh///tA79BQ9igFi2toAGdnGPwzAFq5Ry9YxCKspo9FhhYKFkFBwSIoKFgEBQWLoKBgERQULIKCgkVQULAICgoWQUHBIigoWAQFBYugoGARFBQsgoKCRVBQsAgKChZBQcEiKChYBAUFi6CgYBEUFCyCgoJFUFCwCAoKFkFBwSIoKFgEBQWLoKBgERQULIKCgkVQULAICgoWQUHBIigoWAQFBYugoGARFBQsgoKCRVBQsAgKChZBQcEiKChYBAUFi6CgYBEUFCyCgoJFUFCwCAoKFkFBwSIoKFgEBQWLoKBgERQULIKCgkVQULAICgoWQUHBIigoWAQFBYugoGARFBQsgoKCRVBQsAiK/wd0DaGKvOlWagAAAX56VFh0cmRraXRQS0wgcmRraXQgMjAyMy4wMy4yAAB4nHu/b+09BiDgZYAAJiAWAWJRIG5g5GDQANLMTGwQmoWNIQGkhglOO0DFHTJANDMjEgMiw8EAFmBkxK0En1KiZbgZGDWYGJkYmJiBogwsrBlMrGwJbOwZTOwcCuycCZxcGUyM3ArcPBlMPLwKPHwJfPwZTPwCCvyCCYJCGUxCwgpcLAlC3AkiIP+zsbKxc3KxsPHw8QsKcYv/AgoxQoOHQcRmd8/+WmWdAyDO6wfN+52qZ+wHsVOnz7LTamAAs32CTtgvurAczO7IsXR4rSUPZicqtjowq20Hs4UOr3dYe9UWzF72c6PDsYOO9iB2xOw7DgIyO8Hsrr5Oh4LCE2D2xpu2Du05CWD2+mNCBy6tOrwPxG6L5DvA+rAPLD4xImW/ocxzMPuAfvyBSYXfIOKWsw6kms0Ds9ctOXSg8jGTA4itWjDnQEBoG9gcQa6MAw9VO8HusSrPOXC2QgXsRzEAR8xlPDPPRG8AAAH9elRYdE1PTCByZGtpdCAyMDIzLjAzLjIAAHicfZRBjtswDEX3PoUuEEGkKIpcTpJBURQTA23aO3Tf+6OfymSsQYXaESHLzxRFfmZLcX2/fvv9J31cfN22lMp/fu6eftVSyvaWYpLOr1++3tLl/nJ+rlz2n7f7j8QlMeEb3J/Zl/v+9lyhtKcTZbgVlXTirOaqmkou4zq+5XQZZMVNMSMnVlqQFWTJoLxqOpXcMGsrlwKQclMAHB4rUWmyABtAzuadxcOjMnXM/gUVoGTSUrmFR6nFpC/ADrBlcW7K4bELNeEFaANsSh0ewTU1rQvOkUhFiNXxGhuLkq4ipDJCZDcc+3F619XGROPQqIZQvLeuuswijcowXNbaexymGtMySKrvKAuTYHci5eWx8XYPV+bkXUFaaU1sRUZxTjWLdTYHiZxWWemCojonyQY5cAfJFYVqK7LH7pqLsRZGFoo0qitlkL37NFMvETEr115WqD8CVdQcxwstdxJdnQmtsw/UpUdKGWVy66uUvt6unxrq0WLn/XY9WoxjHH0UC/VoFsKQoyUIox3Cx0PSQ96C0Q8RC4YdUiUMPxQpsTQrT8IQTRIbwfEkJQlDdVIMDSOTMmSstEkBEoZ0qjQN06eKylixqXIShnwqEIXhuQ4SUX5sxZGd4HjO/5zteH7+GWK+/QV4PgCtnP93ewAAAQJ6VFh0U01JTEVTIHJka2l0IDIwMjMuMDMuMgAAeJwtkMltxTAMRFvJ0QZkgbtIGDm5ABfhNn7xGfrnJOpxOFzu32u7roef59nu/Xl4R/xG3+/989kOnlRlMQ6ZkRVrnI2UdODlYolx0lTiUohoOiIH4+mBuFXKTD5OmVlLvEUhvKzGaZODVFpkSgmRTyvx12kZu0kjD14yQDwydJwBJ60YqDKk2kcqw8fbFAn0qghj1OSK6Hkwv5RqtrOmcPs0ExNGHXOIgaCguFZ7J7ljokOn5ZICwWTaIpuJJRVENKhJTEpcQiaZs34lmVHdTUJ0vT6Bzd6L0GL7R2Ur+7gelWvsnz/FjlMpddSURwAAAABJRU5ErkJggg==\" alt=\"Mol\"/></div></td>\n",
       "    </tr>\n",
       "    <tr>\n",
       "      <th>6815</th>\n",
       "      <td>CHEMBL4798627</td>\n",
       "      <td>5.500000e+07</td>\n",
       "      <td>nM</td>\n",
       "      <td>O=C(Cc1csc2nc3ccccc3n12)Nc1ccccc1O</td>\n",
       "      <td>1.259637</td>\n",
       "      <td style=\"text-align: center;\"><div style=\"width: 200px; height: 200px\" data-content=\"rdkit/molecule\"><img src=\"data:image/png;base64,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\" alt=\"Mol\"/></div></td>\n",
       "    </tr>\n",
       "  </tbody>\n",
       "</table>\n",
       "<p>6816 rows × 6 columns</p>\n",
       "</div>"
      ],
      "text/plain": [
       "     molecule_chembl_id          IC50 units  \\\n",
       "0           CHEMBL63786  3.000000e-03    nM   \n",
       "1           CHEMBL35820  6.000000e-03    nM   \n",
       "2           CHEMBL53711  6.000000e-03    nM   \n",
       "3           CHEMBL53753  8.000000e-03    nM   \n",
       "4           CHEMBL66031  8.000000e-03    nM   \n",
       "...                 ...           ...   ...   \n",
       "6811       CHEMBL261238  5.000000e+06    nM   \n",
       "6812        CHEMBL76587  6.500000e+06    nM   \n",
       "6813       CHEMBL490510  1.900000e+07    nM   \n",
       "6814        CHEMBL45068  2.500000e+07    nM   \n",
       "6815      CHEMBL4798627  5.500000e+07    nM   \n",
       "\n",
       "                                                 smiles      pIC50  \\\n",
       "0                     Brc1cccc(Nc2ncnc3cc4ccccc4cc23)c1  11.522879   \n",
       "1                   CCOc1cc2ncnc(Nc3cccc(Br)c3)c2cc1OCC  11.221849   \n",
       "2                    CN(C)c1cc2c(Nc3cccc(Br)c3)ncnc2cn1  11.221849   \n",
       "3                       CNc1cc2c(Nc3cccc(Br)c3)ncnc2cn1  11.096910   \n",
       "4                   Brc1cccc(Nc2ncnc3cc4[nH]cnc4cc23)c1  11.096910   \n",
       "...                                                 ...        ...   \n",
       "6811  CN(c1cccnc1)c1cc2c(Nc3ccc(F)c(Cl)c3)c(C#N)cnc2cn1   2.301030   \n",
       "6812                              N#CC(C#N)Cc1ccc(O)cc1   2.187087   \n",
       "6813  O=C(/C=C/c1ccc(O)c(O)c1)c1ccc(O[C@@H]2O[C@H](C...   1.721246   \n",
       "6814                  O=C(CCc1ccc(O)cc1)c1c(O)cc(O)cc1O   1.602060   \n",
       "6815                 O=C(Cc1csc2nc3ccccc3n12)Nc1ccccc1O   1.259637   \n",
       "\n",
       "                                              ROMol  \n",
       "0     <rdkit.Chem.rdchem.Mol object at 0x1606697e0>  \n",
       "1     <rdkit.Chem.rdchem.Mol object at 0x160669230>  \n",
       "2     <rdkit.Chem.rdchem.Mol object at 0x16066a7a0>  \n",
       "3     <rdkit.Chem.rdchem.Mol object at 0x16066a810>  \n",
       "4     <rdkit.Chem.rdchem.Mol object at 0x16066a880>  \n",
       "...                                             ...  \n",
       "6811  <rdkit.Chem.rdchem.Mol object at 0x1607190e0>  \n",
       "6812  <rdkit.Chem.rdchem.Mol object at 0x160719150>  \n",
       "6813  <rdkit.Chem.rdchem.Mol object at 0x1607191c0>  \n",
       "6814  <rdkit.Chem.rdchem.Mol object at 0x160719230>  \n",
       "6815  <rdkit.Chem.rdchem.Mol object at 0x1607192a0>  \n",
       "\n",
       "[6816 rows x 6 columns]"
      ]
     },
     "execution_count": 67,
     "metadata": {},
     "output_type": "execute_result"
    }
   ],
   "source": [
    "output_df.drop(\"smiles\", axis=1)\n",
    "output_df"
   ]
  },
  {
   "cell_type": "code",
   "execution_count": 60,
   "id": "0c901640-1679-449c-8d07-9a208aa12d17",
   "metadata": {},
   "outputs": [
    {
     "name": "stdout",
     "output_type": "stream",
     "text": [
      "DataFrame shape: (6816, 5)\n"
     ]
    }
   ],
   "source": [
    "# Prepare saving the dataset: Drop the ROMol column\n",
    "output_df = output_df.drop(\"ROMol\", axis=1)\n",
    "print(f\"DataFrame shape: {output_df.shape}\")"
   ]
  },
  {
   "cell_type": "code",
   "execution_count": 55,
   "id": "b6d800ea-f92d-4569-9f89-b1056e117f92",
   "metadata": {},
   "outputs": [
    {
     "data": {
      "text/html": [
       "<div>\n",
       "<style scoped>\n",
       "    .dataframe tbody tr th:only-of-type {\n",
       "        vertical-align: middle;\n",
       "    }\n",
       "\n",
       "    .dataframe tbody tr th {\n",
       "        vertical-align: top;\n",
       "    }\n",
       "\n",
       "    .dataframe thead th {\n",
       "        text-align: right;\n",
       "    }\n",
       "</style>\n",
       "<table border=\"1\" class=\"dataframe\">\n",
       "  <thead>\n",
       "    <tr style=\"text-align: right;\">\n",
       "      <th></th>\n",
       "      <th>molecule_chembl_id</th>\n",
       "      <th>IC50</th>\n",
       "      <th>units</th>\n",
       "      <th>smiles</th>\n",
       "      <th>pIC50</th>\n",
       "    </tr>\n",
       "  </thead>\n",
       "  <tbody>\n",
       "    <tr>\n",
       "      <th>0</th>\n",
       "      <td>CHEMBL63786</td>\n",
       "      <td>0.003</td>\n",
       "      <td>nM</td>\n",
       "      <td>Brc1cccc(Nc2ncnc3cc4ccccc4cc23)c1</td>\n",
       "      <td>11.522879</td>\n",
       "    </tr>\n",
       "    <tr>\n",
       "      <th>1</th>\n",
       "      <td>CHEMBL35820</td>\n",
       "      <td>0.006</td>\n",
       "      <td>nM</td>\n",
       "      <td>CCOc1cc2ncnc(Nc3cccc(Br)c3)c2cc1OCC</td>\n",
       "      <td>11.221849</td>\n",
       "    </tr>\n",
       "    <tr>\n",
       "      <th>2</th>\n",
       "      <td>CHEMBL53711</td>\n",
       "      <td>0.006</td>\n",
       "      <td>nM</td>\n",
       "      <td>CN(C)c1cc2c(Nc3cccc(Br)c3)ncnc2cn1</td>\n",
       "      <td>11.221849</td>\n",
       "    </tr>\n",
       "    <tr>\n",
       "      <th>3</th>\n",
       "      <td>CHEMBL53753</td>\n",
       "      <td>0.008</td>\n",
       "      <td>nM</td>\n",
       "      <td>CNc1cc2c(Nc3cccc(Br)c3)ncnc2cn1</td>\n",
       "      <td>11.096910</td>\n",
       "    </tr>\n",
       "    <tr>\n",
       "      <th>4</th>\n",
       "      <td>CHEMBL66031</td>\n",
       "      <td>0.008</td>\n",
       "      <td>nM</td>\n",
       "      <td>Brc1cccc(Nc2ncnc3cc4[nH]cnc4cc23)c1</td>\n",
       "      <td>11.096910</td>\n",
       "    </tr>\n",
       "  </tbody>\n",
       "</table>\n",
       "</div>"
      ],
      "text/plain": [
       "  molecule_chembl_id   IC50 units                               smiles  \\\n",
       "0        CHEMBL63786  0.003    nM    Brc1cccc(Nc2ncnc3cc4ccccc4cc23)c1   \n",
       "1        CHEMBL35820  0.006    nM  CCOc1cc2ncnc(Nc3cccc(Br)c3)c2cc1OCC   \n",
       "2        CHEMBL53711  0.006    nM   CN(C)c1cc2c(Nc3cccc(Br)c3)ncnc2cn1   \n",
       "3        CHEMBL53753  0.008    nM      CNc1cc2c(Nc3cccc(Br)c3)ncnc2cn1   \n",
       "4        CHEMBL66031  0.008    nM  Brc1cccc(Nc2ncnc3cc4[nH]cnc4cc23)c1   \n",
       "\n",
       "       pIC50  \n",
       "0  11.522879  \n",
       "1  11.221849  \n",
       "2  11.221849  \n",
       "3  11.096910  \n",
       "4  11.096910  "
      ]
     },
     "execution_count": 55,
     "metadata": {},
     "output_type": "execute_result"
    }
   ],
   "source": [
    "output_df.to_csv(DATA / \"EGFR_compounds.csv\")\n",
    "output_df.head()"
   ]
  },
  {
   "cell_type": "code",
   "execution_count": 53,
   "id": "53f98383-7dd4-413a-b7e5-9549c66cd364",
   "metadata": {},
   "outputs": [
    {
     "name": "stdout",
     "output_type": "stream",
     "text": [
      "DataFrame shape: (6816, 5)\n"
     ]
    }
   ],
   "source": [
    "print(f\"DataFrame shape: {output_df.shape}\")"
   ]
  },
  {
   "cell_type": "code",
   "execution_count": null,
   "id": "47726fb7-d60c-4e18-b640-6a4ed39d2d80",
   "metadata": {},
   "outputs": [],
   "source": []
  }
 ],
 "metadata": {
  "kernelspec": {
   "display_name": "edu",
   "language": "python",
   "name": "edu"
  },
  "language_info": {
   "codemirror_mode": {
    "name": "ipython",
    "version": 3
   },
   "file_extension": ".py",
   "mimetype": "text/x-python",
   "name": "python",
   "nbconvert_exporter": "python",
   "pygments_lexer": "ipython3",
   "version": "3.11.4"
  }
 },
 "nbformat": 4,
 "nbformat_minor": 5
}
